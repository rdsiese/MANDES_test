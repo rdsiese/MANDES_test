{
  "cells": [
    {
      "cell_type": "markdown",
      "metadata": {
        "id": "view-in-github",
        "colab_type": "text"
      },
      "source": [
        "<a href=\"https://colab.research.google.com/github/rdsiese/MANDES_test/blob/main/Test%20MANDES.ipynb\" target=\"_parent\"><img src=\"https://colab.research.google.com/assets/colab-badge.svg\" alt=\"Open In Colab\"/></a>"
      ]
    },
    {
      "cell_type": "markdown",
      "id": "33b4571b-c7d6-405a-a067-b95b8765d3ff",
      "metadata": {
        "id": "33b4571b-c7d6-405a-a067-b95b8765d3ff"
      },
      "source": [
        "# This is only a test"
      ]
    },
    {
      "cell_type": "markdown",
      "id": "c46af43f",
      "metadata": {
        "id": "c46af43f"
      },
      "source": [
        "Check that the code below works on your system.\n",
        "\n",
        "Click on the code below and press **Shift + Enter** (or click on the arrow to the left of the code). If you can run the code, you should see a Brownian path that we will use to model the evolution of the stock price."
      ]
    },
    {
      "cell_type": "code",
      "execution_count": null,
      "id": "baac222f",
      "metadata": {
        "id": "baac222f"
      },
      "outputs": [],
      "source": [
        "import numpy as np\n",
        "from matplotlib import pyplot as plt\n",
        "\n",
        "S0=100; K=105; r=0.05; sigma=0.2; T=1; steps = 250\n",
        "\n",
        "brownian = np.zeros(steps+1)\n",
        "z = np.random.normal(0,1,steps)\n",
        "\n",
        "for j in range(1, steps+1):\n",
        "    brownian[j] = brownian[j-1] + np.sqrt(T/steps)*z[j-1]\n",
        "\n",
        "plt.figure(figsize=(5, 3))\n",
        "plt.plot(np.linspace(0, T, steps+1), brownian)\n",
        "plt.axhline(y=0, color='black', linestyle='--', linewidth=0.7)\n",
        "plt.xlim(left=0, right=T)\n",
        "plt.title('A Brownian path')\n",
        "plt.xlabel('Time');"
      ]
    },
    {
      "cell_type": "code",
      "source": [],
      "metadata": {
        "id": "6vWHXSUxuXSb"
      },
      "id": "6vWHXSUxuXSb",
      "execution_count": null,
      "outputs": []
    }
  ],
  "metadata": {
    "kernelspec": {
      "display_name": "Python 3 (ipykernel)",
      "language": "python",
      "name": "python3"
    },
    "language_info": {
      "codemirror_mode": {
        "name": "ipython",
        "version": 3
      },
      "file_extension": ".py",
      "mimetype": "text/x-python",
      "name": "python",
      "nbconvert_exporter": "python",
      "pygments_lexer": "ipython3",
      "version": "3.9.16"
    },
    "toc-autonumbering": false,
    "colab": {
      "provenance": [],
      "include_colab_link": true
    }
  },
  "nbformat": 4,
  "nbformat_minor": 5
}